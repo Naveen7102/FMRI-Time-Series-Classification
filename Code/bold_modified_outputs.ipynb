{
 "cells": [
  {
   "cell_type": "code",
   "execution_count": 1,
   "id": "37e0dcf5",
   "metadata": {},
   "outputs": [],
   "source": [
    "import pandas as pd"
   ]
  },
  {
   "cell_type": "code",
   "execution_count": 2,
   "id": "f20d57ba",
   "metadata": {},
   "outputs": [],
   "source": [
    "out_df = pd.read_csv(\"../data/Outputs/labels4.csv\")\n",
    "out_df.rename(columns = {'0':'label'}, inplace = True)"
   ]
  },
  {
   "cell_type": "code",
   "execution_count": 3,
   "id": "b52a68cd",
   "metadata": {},
   "outputs": [
    {
     "data": {
      "text/plain": [
       "142"
      ]
     },
     "execution_count": 3,
     "metadata": {},
     "output_type": "execute_result"
    }
   ],
   "source": [
    "run_dic = dict()\n",
    "runs_lst1 = [10,10,10,9,10,9,10,9,9,10,9,9,9,9,10]\n",
    "runs_lst2 = [10,9,10,10,10,9,9,9,9,9,10,10,9,10,9]\n",
    "runs_lst3 = [10,9,10,9,10,10,10,9,9,9,10,9,9,9,10]\n",
    "runs_lst4 = [10,9,9,10,9,9,9,9,10]\n",
    "sum(runs_lst2)"
   ]
  },
  {
   "cell_type": "code",
   "execution_count": 4,
   "id": "d2d84d33",
   "metadata": {},
   "outputs": [],
   "source": [
    "for i in range(1,len(runs_lst1)+1):\n",
    "    run_dic[i] = [j for j in range(1,runs_lst4[i-1]+1)]"
   ]
  },
  {
   "cell_type": "code",
   "execution_count": 5,
   "id": "1abf702f",
   "metadata": {},
   "outputs": [
    {
     "data": {
      "text/plain": [
       "{1: [1, 2, 3, 4, 5, 6, 7, 8, 9, 10],\n",
       " 2: [1, 2, 3, 4, 5, 6, 7, 8, 9],\n",
       " 3: [1, 2, 3, 4, 5, 6, 7, 8, 9],\n",
       " 4: [1, 2, 3, 4, 5, 6, 7, 8, 9, 10],\n",
       " 5: [1, 2, 3, 4, 5, 6, 7, 8, 9],\n",
       " 6: [1, 2, 3, 4, 5, 6, 7, 8, 9],\n",
       " 7: [1, 2, 3, 4, 5, 6, 7, 8, 9],\n",
       " 8: [1, 2, 3, 4, 5, 6, 7, 8, 9],\n",
       " 9: [1, 2, 3, 4, 5, 6, 7, 8, 9, 10]}"
      ]
     },
     "execution_count": 5,
     "metadata": {},
     "output_type": "execute_result"
    }
   ],
   "source": [
    "run_dic"
   ]
  },
  {
   "cell_type": "code",
   "execution_count": 6,
   "id": "1952eb14",
   "metadata": {},
   "outputs": [],
   "source": [
    "# not_dic = {1:[7,8], 3:[7,10], 5:[7], 6:[3,5,7,9], 7:[2,4,9], 8:[5,7], 10:[4], 13:[3,4,5,8,9], 15:[5,6]}"
   ]
  },
  {
   "cell_type": "code",
   "execution_count": 7,
   "id": "61addfe7",
   "metadata": {},
   "outputs": [],
   "source": [
    "# not_dic = {6:[4], 15:[5]}"
   ]
  },
  {
   "cell_type": "code",
   "execution_count": 8,
   "id": "39a58d03",
   "metadata": {},
   "outputs": [],
   "source": [
    "# not_dic = {1:[3,4], 2:[4,5,6,7,8,9], 3:[4], 4:[4], 5:[5], 6:[1], 9:[1,2,4,6,9], 10:[8], 11:[4], 12:[1,3,4,5,6,7,8,9], 13:[6], 15:[5,7,9,10]}"
   ]
  },
  {
   "cell_type": "code",
   "execution_count": 9,
   "id": "1a1a15bf",
   "metadata": {},
   "outputs": [],
   "source": [
    "not_dic = {1:[10], 2:[7]}"
   ]
  },
  {
   "cell_type": "code",
   "execution_count": 10,
   "id": "28409b8c",
   "metadata": {},
   "outputs": [
    {
     "data": {
      "text/plain": [
       "{1: [10], 2: [7]}"
      ]
     },
     "execution_count": 10,
     "metadata": {},
     "output_type": "execute_result"
    }
   ],
   "source": [
    "not_dic"
   ]
  },
  {
   "cell_type": "code",
   "execution_count": 11,
   "id": "3af86333",
   "metadata": {},
   "outputs": [],
   "source": [
    "keys = run_dic.keys()"
   ]
  },
  {
   "cell_type": "code",
   "execution_count": 12,
   "id": "c3e277da",
   "metadata": {},
   "outputs": [],
   "source": [
    "not_keys = not_dic.keys()"
   ]
  },
  {
   "cell_type": "code",
   "execution_count": 13,
   "id": "4b369f81",
   "metadata": {},
   "outputs": [
    {
     "data": {
      "text/plain": [
       "dict_keys([1, 2])"
      ]
     },
     "execution_count": 13,
     "metadata": {},
     "output_type": "execute_result"
    }
   ],
   "source": [
    "not_keys"
   ]
  },
  {
   "cell_type": "code",
   "execution_count": 14,
   "id": "c73350fa",
   "metadata": {},
   "outputs": [],
   "source": [
    "out_lst = out_df['label'].tolist()"
   ]
  },
  {
   "cell_type": "code",
   "execution_count": 15,
   "id": "6b8a3aa3",
   "metadata": {},
   "outputs": [],
   "source": [
    "i = 0\n",
    "new_lst = []\n",
    "\n",
    "for key in keys:\n",
    "    if key not in not_keys:\n",
    "        lst = run_dic[key]\n",
    "        for num in lst:\n",
    "            for j in range(0,37):\n",
    "                new_lst.append(out_lst[i])\n",
    "                i+=1\n",
    "        \n",
    "    else:\n",
    "        lst1 = run_dic[key]\n",
    "        lst2 = not_dic[key]\n",
    "        for num in lst1:\n",
    "            if num not in lst2:\n",
    "                for j in range(0,37):\n",
    "                    new_lst.append(out_lst[i])\n",
    "                    i+=1\n",
    "            else:\n",
    "                i+=37"
   ]
  },
  {
   "cell_type": "code",
   "execution_count": 16,
   "id": "55f12cab",
   "metadata": {},
   "outputs": [
    {
     "data": {
      "text/plain": [
       "3034"
      ]
     },
     "execution_count": 16,
     "metadata": {},
     "output_type": "execute_result"
    }
   ],
   "source": [
    "len(new_lst)"
   ]
  },
  {
   "cell_type": "code",
   "execution_count": 17,
   "id": "64f8620c",
   "metadata": {},
   "outputs": [],
   "source": [
    "modified_df = pd.DataFrame(new_lst)\n",
    "modified_df.rename(columns = {0:'label'}, inplace = True)"
   ]
  },
  {
   "cell_type": "code",
   "execution_count": 18,
   "id": "18843fc8",
   "metadata": {},
   "outputs": [],
   "source": [
    "modified_df.to_csv(\"../data/Outputs/modified_labels4.csv\", index = False)"
   ]
  },
  {
   "cell_type": "code",
   "execution_count": null,
   "id": "0447fd89",
   "metadata": {},
   "outputs": [],
   "source": []
  }
 ],
 "metadata": {
  "kernelspec": {
   "display_name": "Python 3 (ipykernel)",
   "language": "python",
   "name": "python3"
  },
  "language_info": {
   "codemirror_mode": {
    "name": "ipython",
    "version": 3
   },
   "file_extension": ".py",
   "mimetype": "text/x-python",
   "name": "python",
   "nbconvert_exporter": "python",
   "pygments_lexer": "ipython3",
   "version": "3.9.7"
  }
 },
 "nbformat": 4,
 "nbformat_minor": 5
}
