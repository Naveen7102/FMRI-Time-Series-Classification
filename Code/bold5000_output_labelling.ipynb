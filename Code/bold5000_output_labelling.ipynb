{
 "cells": [
  {
   "cell_type": "code",
   "execution_count": 1,
   "id": "3e186637",
   "metadata": {},
   "outputs": [],
   "source": [
    "import pandas as pd"
   ]
  },
  {
   "cell_type": "code",
   "execution_count": 2,
   "id": "032d1d42",
   "metadata": {},
   "outputs": [],
   "source": [
    "f = open(\"../data/CSI4_imgnames.txt\",'r')"
   ]
  },
  {
   "cell_type": "code",
   "execution_count": 3,
   "id": "02a3ef24",
   "metadata": {},
   "outputs": [],
   "source": [
    "l = f.readlines()"
   ]
  },
  {
   "cell_type": "code",
   "execution_count": 4,
   "id": "7ff5acb9",
   "metadata": {},
   "outputs": [],
   "source": [
    "# l"
   ]
  },
  {
   "cell_type": "code",
   "execution_count": 5,
   "id": "2750c415",
   "metadata": {},
   "outputs": [],
   "source": [
    "for i in range(len(l)):\n",
    "    l[i] = l[i][:-1]"
   ]
  },
  {
   "cell_type": "code",
   "execution_count": 6,
   "id": "ece94141",
   "metadata": {},
   "outputs": [],
   "source": [
    "# l"
   ]
  },
  {
   "cell_type": "code",
   "execution_count": 7,
   "id": "de1695d1",
   "metadata": {},
   "outputs": [],
   "source": [
    "outlst = []"
   ]
  },
  {
   "cell_type": "code",
   "execution_count": 8,
   "id": "fa015a57",
   "metadata": {},
   "outputs": [],
   "source": [
    "for i in range(len(l)):\n",
    "    line = l[i]\n",
    "    if line[0:5] == \"COCO_\":\n",
    "#         print(line)\n",
    "        outlst.append(0)\n",
    "    elif line[0:2] == \"n0\" or line[0:2] == \"n1\" or line[0:2] == \"n2\":\n",
    "        outlst.append(1)\n",
    "    else:\n",
    "        outlst.append(2)"
   ]
  },
  {
   "cell_type": "code",
   "execution_count": 9,
   "id": "fcb62ac2",
   "metadata": {},
   "outputs": [
    {
     "data": {
      "text/plain": [
       "626"
      ]
     },
     "execution_count": 9,
     "metadata": {},
     "output_type": "execute_result"
    }
   ],
   "source": [
    "outlst.count(2)"
   ]
  },
  {
   "cell_type": "code",
   "execution_count": 10,
   "id": "0643aff5",
   "metadata": {},
   "outputs": [],
   "source": [
    "df = pd.DataFrame(outlst)"
   ]
  },
  {
   "cell_type": "code",
   "execution_count": 11,
   "id": "fa86b5c7",
   "metadata": {},
   "outputs": [],
   "source": [
    "df.to_csv(\"../data/Outputs/labels4.csv\", index=False)"
   ]
  },
  {
   "cell_type": "code",
   "execution_count": null,
   "id": "40f00fe8",
   "metadata": {},
   "outputs": [],
   "source": []
  }
 ],
 "metadata": {
  "kernelspec": {
   "display_name": "Python 3 (ipykernel)",
   "language": "python",
   "name": "python3"
  },
  "language_info": {
   "codemirror_mode": {
    "name": "ipython",
    "version": 3
   },
   "file_extension": ".py",
   "mimetype": "text/x-python",
   "name": "python",
   "nbconvert_exporter": "python",
   "pygments_lexer": "ipython3",
   "version": "3.9.7"
  }
 },
 "nbformat": 4,
 "nbformat_minor": 5
}
