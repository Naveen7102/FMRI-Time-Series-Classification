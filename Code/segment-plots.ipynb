{
 "cells": [
  {
   "cell_type": "code",
   "execution_count": 29,
   "metadata": {
    "_cell_guid": "b1076dfc-b9ad-4769-8c92-a6c4dae69d19",
    "_uuid": "8f2839f25d086af736a60e9eeb907d3b93b6e0e5",
    "execution": {
     "iopub.execute_input": "2023-02-09T09:12:50.742961Z",
     "iopub.status.busy": "2023-02-09T09:12:50.742270Z",
     "iopub.status.idle": "2023-02-09T09:12:50.779109Z",
     "shell.execute_reply": "2023-02-09T09:12:50.777638Z",
     "shell.execute_reply.started": "2023-02-09T09:12:50.742866Z"
    }
   },
   "outputs": [],
   "source": [
    "import numpy as np\n",
    "import matplotlib.pyplot as plt\n",
    "import matplotlib.patches as mpatches"
   ]
  },
  {
   "cell_type": "code",
   "execution_count": 3,
   "metadata": {
    "execution": {
     "iopub.execute_input": "2023-02-09T09:17:17.232927Z",
     "iopub.status.busy": "2023-02-09T09:17:17.232528Z",
     "iopub.status.idle": "2023-02-09T09:17:17.238334Z",
     "shell.execute_reply": "2023-02-09T09:17:17.237147Z",
     "shell.execute_reply.started": "2023-02-09T09:17:17.232896Z"
    }
   },
   "outputs": [],
   "source": [
    "r = 0\n",
    "g = 1\n",
    "b = 2"
   ]
  },
  {
   "cell_type": "code",
   "execution_count": 4,
   "metadata": {
    "execution": {
     "iopub.execute_input": "2023-02-09T09:24:05.972120Z",
     "iopub.status.busy": "2023-02-09T09:24:05.971666Z",
     "iopub.status.idle": "2023-02-09T09:24:05.979691Z",
     "shell.execute_reply": "2023-02-09T09:24:05.978522Z",
     "shell.execute_reply.started": "2023-02-09T09:24:05.972081Z"
    }
   },
   "outputs": [],
   "source": [
    "x1_true = [g,g,g,r,g,b,b,r,r,b,g,r,r,g,r,b,r,b,g,r,g,r,g,g,g,r,b,b,g,r,g,r,g,r,g,g,r]\n",
    "x1_pred = [g,g,g,g,g,r,r,r,r,b,g,r,r,g,r,b,r,g,r,r,g,r,g,g,g,g,b,b,g,r,r,r,g,r,b,g,r]"
   ]
  },
  {
   "cell_type": "code",
   "execution_count": 5,
   "metadata": {
    "execution": {
     "iopub.execute_input": "2023-02-09T09:30:47.486666Z",
     "iopub.status.busy": "2023-02-09T09:30:47.486246Z",
     "iopub.status.idle": "2023-02-09T09:30:47.494439Z",
     "shell.execute_reply": "2023-02-09T09:30:47.493184Z",
     "shell.execute_reply.started": "2023-02-09T09:30:47.486633Z"
    }
   },
   "outputs": [],
   "source": [
    "x2_true = [g,b,r,g,b,g,g,r,b,r,r,r,r,r,b,g,b,g,b,r,r,g,b,g,r,g,g,b,r,r,g,g,r,r,g,r,r]\n",
    "x2_pred = [g,b,r,r,b,g,r,r,g,r,r,r,r,g,b,g,r,g,g,g,r,g,b,g,r,g,g,b,r,r,g,g,r,r,r,r,r]"
   ]
  },
  {
   "cell_type": "code",
   "execution_count": 69,
   "metadata": {
    "execution": {
     "iopub.execute_input": "2023-02-09T09:54:41.441177Z",
     "iopub.status.busy": "2023-02-09T09:54:41.440776Z",
     "iopub.status.idle": "2023-02-09T09:54:41.451978Z",
     "shell.execute_reply": "2023-02-09T09:54:41.450830Z",
     "shell.execute_reply.started": "2023-02-09T09:54:41.441145Z"
    }
   },
   "outputs": [],
   "source": [
    "def plot(x_true,x_pred):\n",
    "    \n",
    "    col_true = []\n",
    "    for i in range(37):\n",
    "        if(x_true[i] == 0):\n",
    "            col_true.append('r')\n",
    "        elif x_true[i] == 1:\n",
    "            col_true.append('g')\n",
    "        else:\n",
    "            col_true.append('b')\n",
    "    \n",
    "    col_pred = []\n",
    "    for i in range(37):\n",
    "        if x_pred[i] == 0:\n",
    "            col_pred.append('r')\n",
    "        elif x_pred[i] == 1:\n",
    "            col_pred.append('g')\n",
    "        else:\n",
    "            col_pred.append('b')\n",
    "            \n",
    "    x_val = [i+1 for i in range(37)]\n",
    "    y_val = [1 for i in range(37)]\n",
    "    \n",
    "    plt.bar(x_val, y_val, color = col_true,width = 1)\n",
    "    plt.bar(x_val, [-i for i in y_val], color = col_pred,width = 1)\n",
    "    plt.plot([i for i in range(1,38)],[0 for i in range(1,38)], color = 'black')\n",
    "    plt.plot([i for i in range(1,38)],[0.01 for i in range(1,38)], color = 'black')\n",
    "    plt.plot([i for i in range(1,38)],[0.02 for i in range(1,38)], color = 'black')\n",
    "    frame1 = plt.gca()\n",
    "    frame1.axes.get_yaxis().set_ticks([0])\n",
    "#     frame1.axes.get_xaxis().set_ticks([i for i in range(38,5)])\n",
    "    frame1.axes.tick_params(axis='x', colors='black')\n",
    "    frame1.axes.text(-3, 0.3, \"Actual Label\", rotation=90)\n",
    "    frame1.axes.text(-3, -0.9, \"Predicted Label\", rotation=90)\n",
    "    coco = mpatches.Patch(color='red', label='COCO')\n",
    "    img = mpatches.Patch(color='green', label='ImageNet')\n",
    "    sun = mpatches.Patch(color='blue', label='SUN')\n",
    "    frame1.axes.legend(handles=[coco,img,sun],bbox_to_anchor=(1, 1))\n",
    "    plt.xlabel('time')\n",
    "\n",
    "    plt.show()"
   ]
  },
  {
   "cell_type": "code",
   "execution_count": 70,
   "metadata": {
    "execution": {
     "iopub.execute_input": "2023-02-09T09:54:41.759986Z",
     "iopub.status.busy": "2023-02-09T09:54:41.758930Z",
     "iopub.status.idle": "2023-02-09T09:54:42.044315Z",
     "shell.execute_reply": "2023-02-09T09:54:42.043191Z",
     "shell.execute_reply.started": "2023-02-09T09:54:41.759946Z"
    }
   },
   "outputs": [
    {
     "data": {
      "image/png": "[encoded data removed]",
      "text/plain": [
       "<Figure size 432x288 with 1 Axes>"
      ]
     },
     "metadata": {
      "needs_background": "light"
     },
     "output_type": "display_data"
    }
   ],
   "source": [
    "plot(x2_true,x2_pred)"
   ]
  },
  {
   "cell_type": "code",
   "execution_count": 49,
   "metadata": {},
   "outputs": [],
   "source": [
    "def plot1(x_true,x_pred):\n",
    "    \n",
    "    col_true = []\n",
    "    for i in range(37):\n",
    "        if(x_true[i] == 0):\n",
    "            col_true.append('r')\n",
    "        elif x_true[i] == 1:\n",
    "            col_true.append('g')\n",
    "        else:\n",
    "            col_true.append('b')\n",
    "    \n",
    "    col_pred = []\n",
    "    for i in range(37):\n",
    "        if x_pred[i] == 0:\n",
    "            col_pred.append('r')\n",
    "        elif x_pred[i] == 1:\n",
    "            col_pred.append('g')\n",
    "        else:\n",
    "            col_pred.append('b')\n",
    "            \n",
    "    x_val = [i+1 for i in range(37)]\n",
    "    y_val = [1 for i in range(37)]\n",
    "    \n",
    "    plt.bar(x_val, y_val, color = col_true,width = 1)\n",
    "#     plt.bar(x_val, [-i for i in y_val], color = col_pred,width = 1)\n",
    "    plt.plot([i for i in range(1,38)],[0 for i in range(1,38)], color = 'black')\n",
    "    frame1 = plt.gca()\n",
    "    frame1.axes.get_yaxis().set_ticks([0])\n",
    "    frame1.axes.tick_params(axis='x', colors='black')\n",
    "    frame1.axes.text(-3, 0.3, \"Actual Label ----->\", rotation=90)\n",
    "#     frame1.axes.text(-3, -0.9, \"Predicted Label\", rotation=90)\n",
    "    coco = mpatches.Patch(color='red', label='COCO')\n",
    "    img = mpatches.Patch(color='green', label='ImageNet')\n",
    "    sun = mpatches.Patch(color='blue', label='SUN')\n",
    "    frame1.axes.legend(handles=[coco,img,sun],bbox_to_anchor=(1, 1))\n",
    "    plt.xlabel('time ---->')\n",
    "\n",
    "    plt.show()"
   ]
  },
  {
   "cell_type": "code",
   "execution_count": 59,
   "metadata": {},
   "outputs": [
    {
     "data": {
      "image/png": "[encoded data removed]",
      "text/plain": [
       "<Figure size 432x288 with 1 Axes>"
      ]
     },
     "metadata": {
      "needs_background": "light"
     },
     "output_type": "display_data"
    }
   ],
   "source": [
    "plot1(x1_true,x1_pred)"
   ]
  },
  {
   "cell_type": "code",
   "execution_count": 57,
   "metadata": {},
   "outputs": [],
   "source": [
    "def plot2(x_true,x_pred):\n",
    "    \n",
    "    col_pred = []\n",
    "    for i in range(37):\n",
    "        if x_pred[i] == 0:\n",
    "            col_pred.append('r')\n",
    "        elif x_pred[i] == 1:\n",
    "            col_pred.append('g')\n",
    "        else:\n",
    "            col_pred.append('b')\n",
    "            \n",
    "    x_val = [i+1 for i in range(37)]\n",
    "    y_val = [1 for i in range(37)]\n",
    "    \n",
    "    plt.bar(x_val, [-i for i in y_val], color = col_pred,width = 1)\n",
    "    plt.plot([i for i in range(1,38)],[0 for i in range(1,38)], color = 'black')\n",
    "    frame1 = plt.gca()\n",
    "    frame1.axes.get_yaxis().set_ticks([0])\n",
    "    frame1.axes.tick_params(axis='x', colors='black')\n",
    "\n",
    "    frame1.axes.text(-3, -0.5, \"<----- Predicted Label\", rotation=90, va='center')\n",
    "    coco = mpatches.Patch(color='red', label='COCO')\n",
    "    img = mpatches.Patch(color='green', label='ImageNet')\n",
    "    sun = mpatches.Patch(color='blue', label='SUN')\n",
    "    frame1.axes.legend(handles=[coco,img,sun],bbox_to_anchor=(1, 1))\n",
    "    plt.xlabel('time ---->')\n",
    "\n",
    "    plt.show()"
   ]
  },
  {
   "cell_type": "code",
   "execution_count": 60,
   "metadata": {},
   "outputs": [
    {
     "data": {
      "image/png": "[encoded data removed]",
      "text/plain": [
       "<Figure size 432x288 with 1 Axes>"
      ]
     },
     "metadata": {
      "needs_background": "light"
     },
     "output_type": "display_data"
    }
   ],
   "source": [
    "plot2(x1_true,x1_pred)"
   ]
  },
  {
   "cell_type": "code",
   "execution_count": null,
   "metadata": {},
   "outputs": [],
   "source": []
  }
 ],
 "metadata": {
  "kernelspec": {
   "display_name": "Python 3 (ipykernel)",
   "language": "python",
   "name": "python3"
  },
  "language_info": {
   "codemirror_mode": {
    "name": "ipython",
    "version": 3
   },
   "file_extension": ".py",
   "mimetype": "text/x-python",
   "name": "python",
   "nbconvert_exporter": "python",
   "pygments_lexer": "ipython3",
   "version": "3.9.7"
  }
 },
 "nbformat": 4,
 "nbformat_minor": 4
}
